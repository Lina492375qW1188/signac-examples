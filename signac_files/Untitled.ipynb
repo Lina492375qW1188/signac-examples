{
 "cells": [
  {
   "cell_type": "code",
   "execution_count": 14,
   "id": "a7975c43-491a-4b9c-8cfd-199b385ec410",
   "metadata": {},
   "outputs": [],
   "source": [
    "import itertools\n",
    "import numpy as np\n",
    "\n",
    "import hoomd\n",
    "import gsd.hoomd\n",
    "import freud\n",
    "import coxeter\n",
    "\n",
    "from simulation import Project\n",
    "import signac\n",
    "import flow\n",
    "\n",
    "from verts_lib import octa, hexbp, trunc_octa"
   ]
  },
  {
   "cell_type": "code",
   "execution_count": 15,
   "id": "1ea4a49e-ce65-4759-9a3d-0f32ea0b33be",
   "metadata": {},
   "outputs": [],
   "source": [
    "# List of fixed parameter\n",
    "N_particles_arr = [1000]\n",
    "vertices_arr = [hexbp]\n",
    "particle = coxeter.shapes.ConvexPolyhedron( vertices_arr[0] )\n",
    "particle_volume_arr = [particle.volume]\n",
    "pressure_arr = [12.]\n",
    "\n",
    "# List to explore\n",
    "seed_arr = [i for i in range(1,3)]\n",
    "inertia_arr = []\n",
    "for ri in np.array([1.]):\n",
    "    diag_inertia = particle.inertia_tensor.diagonal().copy()\n",
    "    diag_inertia[2] *= ri\n",
    "    inertia_arr.append(diag_inertia)\n",
    "    \n",
    "sp_dict = list(itertools.product(N_particles_arr, \n",
    "                                 vertices_arr, \n",
    "                                 particle_volume_arr, \n",
    "                                 pressure_arr, \n",
    "                                 seed_arr, \n",
    "                                 inertia_arr))"
   ]
  },
  {
   "cell_type": "code",
   "execution_count": 18,
   "id": "6956c8e5-a6e5-4c44-8ff9-b01d4a13dc87",
   "metadata": {},
   "outputs": [],
   "source": [
    "project = signac.init_project(name=\"moment-of-inertia\")"
   ]
  },
  {
   "cell_type": "code",
   "execution_count": 19,
   "id": "c7c942bc-3282-4fee-ad44-9027907b0a99",
   "metadata": {},
   "outputs": [],
   "source": [
    "for N_particles, vertices, particle_volume, pressure, seed, inertia in sp_dict:\n",
    "    statepoint = dict(N_particles=N_particles, \n",
    "                      vertices=vertices,\n",
    "                      particle_volume=particle_volume,\n",
    "                      pressure=pressure, \n",
    "                      seed=seed,\n",
    "                      inertia=inertia)"
   ]
  },
  {
   "cell_type": "code",
   "execution_count": 20,
   "id": "1b1ece28-eb43-4c5f-9ea3-1457d71a8cdf",
   "metadata": {},
   "outputs": [],
   "source": [
    "job = project.open_job(statepoint)"
   ]
  },
  {
   "cell_type": "code",
   "execution_count": 21,
   "id": "e25bf567-0bce-4b1d-b8c7-a74e95960976",
   "metadata": {},
   "outputs": [
    {
     "data": {
      "text/plain": [
       "Job(project=Project.get_project('/Users/lina492375qw1188/Desktop/moment-of-inertia/signac_files'), statepoint={'N_particles': 1000, 'vertices': [[0.0, 0.0, 1.12], [1.0, 0.0, 0.0], [0.5000000000000001, 0.8660254037844386, 0.0], [-0.49999999999999983, 0.8660254037844387, 0.0], [-1.0, 1.2246467991473532e-16, 0.0], [-0.5000000000000004, -0.8660254037844384, 0.0], [0.5000000000000001, -0.8660254037844386, 0.0], [0.0, 0.0, -1.12]], 'particle_volume': 1.9398969044771421, 'pressure': 12.0, 'seed': 2, 'inertia': [0.4858277807572555, 0.4858277807572555, 0.4849742261192856]})"
      ]
     },
     "execution_count": 21,
     "metadata": {},
     "output_type": "execute_result"
    }
   ],
   "source": [
    "job.init()"
   ]
  },
  {
   "cell_type": "code",
   "execution_count": 23,
   "id": "3bfb6f30-5467-432b-bd3d-267164a66002",
   "metadata": {},
   "outputs": [],
   "source": [
    "job.doc['a']=2"
   ]
  },
  {
   "cell_type": "code",
   "execution_count": 24,
   "id": "f953c41b-03d1-4b67-be81-77f869895a9e",
   "metadata": {},
   "outputs": [],
   "source": [
    "job.sp.a=1"
   ]
  }
 ],
 "metadata": {
  "kernelspec": {
   "display_name": "Python 3 (ipykernel)",
   "language": "python",
   "name": "python3"
  },
  "language_info": {
   "codemirror_mode": {
    "name": "ipython",
    "version": 3
   },
   "file_extension": ".py",
   "mimetype": "text/x-python",
   "name": "python",
   "nbconvert_exporter": "python",
   "pygments_lexer": "ipython3",
   "version": "3.9.16"
  }
 },
 "nbformat": 4,
 "nbformat_minor": 5
}
